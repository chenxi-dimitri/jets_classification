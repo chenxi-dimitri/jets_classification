{
 "nbformat": 4,
 "nbformat_minor": 2,
 "metadata": {
  "language_info": {
   "name": "python",
   "codemirror_mode": {
    "name": "ipython",
    "version": 3
   },
   "version": "3.7.5-final"
  },
  "orig_nbformat": 2,
  "file_extension": ".py",
  "mimetype": "text/x-python",
  "name": "python",
  "npconvert_exporter": "python",
  "pygments_lexer": "ipython3",
  "version": 3,
  "kernelspec": {
   "name": "python37564bittensorflowconda06faca518d6c4f5ba610d5de9481cf2a",
   "display_name": "Python 3.7.5 64-bit ('tensorflow': conda)"
  }
 },
 "cells": [
  {
   "cell_type": "code",
   "execution_count": 17,
   "metadata": {},
   "outputs": [],
   "source": [
    "import numpy as np\n",
    "import pandas as pd\n",
    "from pandas import DataFrame,Series"
   ]
  },
  {
   "cell_type": "code",
   "execution_count": 18,
   "metadata": {},
   "outputs": [],
   "source": [
    "jet = pd.read_csv(\"C:/Users/xi chen/Desktop/JUPYTER/jet_complex_data/jet_complex_data/complex_train_R04_jet.csv\")\n",
    "particle = pd.read_csv(\"C:/Users/xi chen/Desktop/JUPYTER/jet_complex_data/jet_complex_data/complex_train_R04_particle.csv\")\n",
    "event = pd.read_csv(\"C:/Users/xi chen/Desktop/JUPYTER/jet_complex_data/jet_complex_data/complex_train_R04_event.csv\")"
   ]
  },
  {
   "cell_type": "code",
   "execution_count": 19,
   "metadata": {},
   "outputs": [
    {
     "data": {
      "text/html": "<div>\n<style scoped>\n    .dataframe tbody tr th:only-of-type {\n        vertical-align: middle;\n    }\n\n    .dataframe tbody tr th {\n        vertical-align: top;\n    }\n\n    .dataframe thead th {\n        text-align: right;\n    }\n</style>\n<table border=\"1\" class=\"dataframe\">\n  <thead>\n    <tr style=\"text-align: right;\">\n      <th></th>\n      <th>jet_id</th>\n      <th>number_of_particles_in_this_jet</th>\n      <th>jet_px</th>\n      <th>jet_py</th>\n      <th>jet_pz</th>\n      <th>jet_energy</th>\n      <th>jet_mass</th>\n      <th>event_id</th>\n      <th>label</th>\n    </tr>\n  </thead>\n  <tbody>\n    <tr>\n      <th>0</th>\n      <td>17a0a1f19a7f43558cb9cca517b6e198</td>\n      <td>21</td>\n      <td>-288.5120</td>\n      <td>0.302560</td>\n      <td>1.839620</td>\n      <td>289.0660</td>\n      <td>17.78110</td>\n      <td>410e86bc0457482d9d6f81cd2d95ccf0</td>\n      <td>1</td>\n    </tr>\n    <tr>\n      <th>1</th>\n      <td>36d1005f56d343d5a09513cb7a4ead61</td>\n      <td>26</td>\n      <td>-158.4480</td>\n      <td>2.132650</td>\n      <td>-16.283400</td>\n      <td>159.7180</td>\n      <td>11.58480</td>\n      <td>6f7bf9104f8c4a619eedd129d5ce3dcb</td>\n      <td>5</td>\n    </tr>\n    <tr>\n      <th>2</th>\n      <td>a82071a653304481979b5dfb8eb0da47</td>\n      <td>27</td>\n      <td>-104.1430</td>\n      <td>-37.267200</td>\n      <td>-20.658500</td>\n      <td>113.3200</td>\n      <td>13.42170</td>\n      <td>4ee694b125c944c1a4560a20b79ccbe3</td>\n      <td>4</td>\n    </tr>\n    <tr>\n      <th>3</th>\n      <td>d3b2474fe3ba43e2b02b918adf8bbd98</td>\n      <td>17</td>\n      <td>284.8090</td>\n      <td>1.313630</td>\n      <td>0.562324</td>\n      <td>286.0620</td>\n      <td>26.71040</td>\n      <td>a0543408ffe140979e03b063fd7129c5</td>\n      <td>1</td>\n    </tr>\n    <tr>\n      <th>4</th>\n      <td>e46253f34c93428cb91fe0c7fc03c430</td>\n      <td>12</td>\n      <td>-38.3067</td>\n      <td>15.601100</td>\n      <td>-7.581700</td>\n      <td>42.2007</td>\n      <td>3.55142</td>\n      <td>a4b2679fd14a418c8d21fcaf2e32be8e</td>\n      <td>4</td>\n    </tr>\n    <tr>\n      <th>...</th>\n      <td>...</td>\n      <td>...</td>\n      <td>...</td>\n      <td>...</td>\n      <td>...</td>\n      <td>...</td>\n      <td>...</td>\n      <td>...</td>\n      <td>...</td>\n    </tr>\n    <tr>\n      <th>1134550</th>\n      <td>31d3749efd0d420ab1a60300e796c486</td>\n      <td>12</td>\n      <td>64.5884</td>\n      <td>5.752170</td>\n      <td>0.621394</td>\n      <td>65.0404</td>\n      <td>5.01200</td>\n      <td>1964346ac4284d628ac570189f376fd8</td>\n      <td>4</td>\n    </tr>\n    <tr>\n      <th>1134551</th>\n      <td>911d3d698e82491ca66e368cf68c090b</td>\n      <td>18</td>\n      <td>54.3153</td>\n      <td>-18.664900</td>\n      <td>42.585700</td>\n      <td>71.9421</td>\n      <td>7.97440</td>\n      <td>c8ca41938a264a82b04f5db5b90dca74</td>\n      <td>1</td>\n    </tr>\n    <tr>\n      <th>1134552</th>\n      <td>c6c67634cc3b4b0cb124fc743bb8691d</td>\n      <td>27</td>\n      <td>324.5930</td>\n      <td>-9.431880</td>\n      <td>2.120790</td>\n      <td>326.3780</td>\n      <td>32.68480</td>\n      <td>107dbefa8910492ead0ad5fe8788fc39</td>\n      <td>1</td>\n    </tr>\n    <tr>\n      <th>1134553</th>\n      <td>598b78dbdda94636b0b42175169f8590</td>\n      <td>12</td>\n      <td>111.5870</td>\n      <td>15.816600</td>\n      <td>38.290500</td>\n      <td>119.4050</td>\n      <td>9.45870</td>\n      <td>539ea21bad6a4f789360998e44eb91ff</td>\n      <td>4</td>\n    </tr>\n    <tr>\n      <th>1134554</th>\n      <td>1d172f089c0d4bea901b172cf60cb337</td>\n      <td>23</td>\n      <td>426.1040</td>\n      <td>0.431062</td>\n      <td>-0.404603</td>\n      <td>426.3450</td>\n      <td>14.33750</td>\n      <td>f2f522013b3d44d2923bd9408dd897a2</td>\n      <td>1</td>\n    </tr>\n  </tbody>\n</table>\n<p>1134555 rows × 9 columns</p>\n</div>",
      "text/plain": "                                   jet_id  number_of_particles_in_this_jet  \\\n0        17a0a1f19a7f43558cb9cca517b6e198                               21   \n1        36d1005f56d343d5a09513cb7a4ead61                               26   \n2        a82071a653304481979b5dfb8eb0da47                               27   \n3        d3b2474fe3ba43e2b02b918adf8bbd98                               17   \n4        e46253f34c93428cb91fe0c7fc03c430                               12   \n...                                   ...                              ...   \n1134550  31d3749efd0d420ab1a60300e796c486                               12   \n1134551  911d3d698e82491ca66e368cf68c090b                               18   \n1134552  c6c67634cc3b4b0cb124fc743bb8691d                               27   \n1134553  598b78dbdda94636b0b42175169f8590                               12   \n1134554  1d172f089c0d4bea901b172cf60cb337                               23   \n\n           jet_px     jet_py     jet_pz  jet_energy  jet_mass  \\\n0       -288.5120   0.302560   1.839620    289.0660  17.78110   \n1       -158.4480   2.132650 -16.283400    159.7180  11.58480   \n2       -104.1430 -37.267200 -20.658500    113.3200  13.42170   \n3        284.8090   1.313630   0.562324    286.0620  26.71040   \n4        -38.3067  15.601100  -7.581700     42.2007   3.55142   \n...           ...        ...        ...         ...       ...   \n1134550   64.5884   5.752170   0.621394     65.0404   5.01200   \n1134551   54.3153 -18.664900  42.585700     71.9421   7.97440   \n1134552  324.5930  -9.431880   2.120790    326.3780  32.68480   \n1134553  111.5870  15.816600  38.290500    119.4050   9.45870   \n1134554  426.1040   0.431062  -0.404603    426.3450  14.33750   \n\n                                 event_id  label  \n0        410e86bc0457482d9d6f81cd2d95ccf0      1  \n1        6f7bf9104f8c4a619eedd129d5ce3dcb      5  \n2        4ee694b125c944c1a4560a20b79ccbe3      4  \n3        a0543408ffe140979e03b063fd7129c5      1  \n4        a4b2679fd14a418c8d21fcaf2e32be8e      4  \n...                                   ...    ...  \n1134550  1964346ac4284d628ac570189f376fd8      4  \n1134551  c8ca41938a264a82b04f5db5b90dca74      1  \n1134552  107dbefa8910492ead0ad5fe8788fc39      1  \n1134553  539ea21bad6a4f789360998e44eb91ff      4  \n1134554  f2f522013b3d44d2923bd9408dd897a2      1  \n\n[1134555 rows x 9 columns]"
     },
     "execution_count": 19,
     "metadata": {},
     "output_type": "execute_result"
    }
   ],
   "source": [
    "jet"
   ]
  },
  {
   "cell_type": "code",
   "execution_count": 20,
   "metadata": {},
   "outputs": [
    {
     "data": {
      "text/html": "<div>\n<style scoped>\n    .dataframe tbody tr th:only-of-type {\n        vertical-align: middle;\n    }\n\n    .dataframe tbody tr th {\n        vertical-align: top;\n    }\n\n    .dataframe thead th {\n        text-align: right;\n    }\n</style>\n<table border=\"1\" class=\"dataframe\">\n  <thead>\n    <tr style=\"text-align: right;\">\n      <th></th>\n      <th>particle_category</th>\n      <th>particle_px</th>\n      <th>particle_py</th>\n      <th>particle_pz</th>\n      <th>particle_energy</th>\n      <th>particle_mass</th>\n      <th>jet_id</th>\n    </tr>\n  </thead>\n  <tbody>\n    <tr>\n      <th>0</th>\n      <td>-211</td>\n      <td>-1.299730</td>\n      <td>0.368729</td>\n      <td>-0.057008</td>\n      <td>1.359400</td>\n      <td>0.13957</td>\n      <td>01291194f90c44c7bd79d9dbd50abd93</td>\n    </tr>\n    <tr>\n      <th>1</th>\n      <td>-2212</td>\n      <td>1.305420</td>\n      <td>0.418302</td>\n      <td>-0.426083</td>\n      <td>1.714930</td>\n      <td>0.93827</td>\n      <td>7df78235aa464796bbb386765d4784b5</td>\n    </tr>\n    <tr>\n      <th>2</th>\n      <td>22</td>\n      <td>-0.611265</td>\n      <td>0.111135</td>\n      <td>-0.225794</td>\n      <td>0.661044</td>\n      <td>0.00000</td>\n      <td>9aeaad70b98f4bf0890734137f88c7ac</td>\n    </tr>\n    <tr>\n      <th>3</th>\n      <td>211</td>\n      <td>3.778570</td>\n      <td>0.205956</td>\n      <td>-1.089380</td>\n      <td>3.940330</td>\n      <td>0.13957</td>\n      <td>4261ccf933b64ce6ba83c623e9a5bf06</td>\n    </tr>\n    <tr>\n      <th>4</th>\n      <td>22</td>\n      <td>0.461909</td>\n      <td>0.330447</td>\n      <td>-0.168640</td>\n      <td>0.592448</td>\n      <td>0.00000</td>\n      <td>e79cf654192e4cab8b83f50554fededc</td>\n    </tr>\n    <tr>\n      <th>...</th>\n      <td>...</td>\n      <td>...</td>\n      <td>...</td>\n      <td>...</td>\n      <td>...</td>\n      <td>...</td>\n      <td>...</td>\n    </tr>\n    <tr>\n      <th>24297347</th>\n      <td>22</td>\n      <td>-1.173750</td>\n      <td>0.414522</td>\n      <td>-0.616230</td>\n      <td>1.388980</td>\n      <td>0.00000</td>\n      <td>300f47688ccc47c2a59c7c674f8d5a46</td>\n    </tr>\n    <tr>\n      <th>24297348</th>\n      <td>211</td>\n      <td>-1.216210</td>\n      <td>0.033405</td>\n      <td>0.208287</td>\n      <td>1.242230</td>\n      <td>0.13957</td>\n      <td>853974ded875499597a0c160b718a5bd</td>\n    </tr>\n    <tr>\n      <th>24297349</th>\n      <td>22</td>\n      <td>2.128180</td>\n      <td>-0.497285</td>\n      <td>-1.109510</td>\n      <td>2.451010</td>\n      <td>0.00000</td>\n      <td>3104af57d9524ec9ae3fb3bfc326cd8a</td>\n    </tr>\n    <tr>\n      <th>24297350</th>\n      <td>211</td>\n      <td>-9.644300</td>\n      <td>4.915750</td>\n      <td>-1.419890</td>\n      <td>10.918500</td>\n      <td>0.13957</td>\n      <td>a99480901a29441d845efade2381f59a</td>\n    </tr>\n    <tr>\n      <th>24297351</th>\n      <td>-321</td>\n      <td>-0.611920</td>\n      <td>0.204681</td>\n      <td>0.071242</td>\n      <td>0.815558</td>\n      <td>0.49368</td>\n      <td>03f391b5fbfc4e57b8d38c1edf3c7aa2</td>\n    </tr>\n  </tbody>\n</table>\n<p>24297352 rows × 7 columns</p>\n</div>",
      "text/plain": "          particle_category  particle_px  particle_py  particle_pz  \\\n0                      -211    -1.299730     0.368729    -0.057008   \n1                     -2212     1.305420     0.418302    -0.426083   \n2                        22    -0.611265     0.111135    -0.225794   \n3                       211     3.778570     0.205956    -1.089380   \n4                        22     0.461909     0.330447    -0.168640   \n...                     ...          ...          ...          ...   \n24297347                 22    -1.173750     0.414522    -0.616230   \n24297348                211    -1.216210     0.033405     0.208287   \n24297349                 22     2.128180    -0.497285    -1.109510   \n24297350                211    -9.644300     4.915750    -1.419890   \n24297351               -321    -0.611920     0.204681     0.071242   \n\n          particle_energy  particle_mass                            jet_id  \n0                1.359400        0.13957  01291194f90c44c7bd79d9dbd50abd93  \n1                1.714930        0.93827  7df78235aa464796bbb386765d4784b5  \n2                0.661044        0.00000  9aeaad70b98f4bf0890734137f88c7ac  \n3                3.940330        0.13957  4261ccf933b64ce6ba83c623e9a5bf06  \n4                0.592448        0.00000  e79cf654192e4cab8b83f50554fededc  \n...                   ...            ...                               ...  \n24297347         1.388980        0.00000  300f47688ccc47c2a59c7c674f8d5a46  \n24297348         1.242230        0.13957  853974ded875499597a0c160b718a5bd  \n24297349         2.451010        0.00000  3104af57d9524ec9ae3fb3bfc326cd8a  \n24297350        10.918500        0.13957  a99480901a29441d845efade2381f59a  \n24297351         0.815558        0.49368  03f391b5fbfc4e57b8d38c1edf3c7aa2  \n\n[24297352 rows x 7 columns]"
     },
     "execution_count": 20,
     "metadata": {},
     "output_type": "execute_result"
    }
   ],
   "source": [
    "particle"
   ]
  },
  {
   "cell_type": "code",
   "execution_count": 21,
   "metadata": {},
   "outputs": [
    {
     "data": {
      "text/html": "<div>\n<style scoped>\n    .dataframe tbody tr th:only-of-type {\n        vertical-align: middle;\n    }\n\n    .dataframe tbody tr th {\n        vertical-align: top;\n    }\n\n    .dataframe thead th {\n        text-align: right;\n    }\n</style>\n<table border=\"1\" class=\"dataframe\">\n  <thead>\n    <tr style=\"text-align: right;\">\n      <th></th>\n      <th>event_id</th>\n      <th>number_of_jet_in_this_event</th>\n    </tr>\n  </thead>\n  <tbody>\n    <tr>\n      <th>0</th>\n      <td>bc719fe03a7c402f837fdad7772254ad</td>\n      <td>2</td>\n    </tr>\n    <tr>\n      <th>1</th>\n      <td>1979380d57fa4e8b83a28df9195fcb30</td>\n      <td>4</td>\n    </tr>\n    <tr>\n      <th>2</th>\n      <td>d44fe1c3704b4fab85624d21bea876f7</td>\n      <td>2</td>\n    </tr>\n    <tr>\n      <th>3</th>\n      <td>18f606d49281448ca5ac5053d4d6347b</td>\n      <td>2</td>\n    </tr>\n    <tr>\n      <th>4</th>\n      <td>c7b0d93328724d94a150c7efbe1887ea</td>\n      <td>2</td>\n    </tr>\n    <tr>\n      <th>...</th>\n      <td>...</td>\n      <td>...</td>\n    </tr>\n    <tr>\n      <th>371372</th>\n      <td>26c7e3fbc6194323a5f90ebf72d16db8</td>\n      <td>5</td>\n    </tr>\n    <tr>\n      <th>371373</th>\n      <td>f78fba1469414ce2b52b6ff859139f22</td>\n      <td>3</td>\n    </tr>\n    <tr>\n      <th>371374</th>\n      <td>a6f1299dc8da4497a23016836fc1e49b</td>\n      <td>2</td>\n    </tr>\n    <tr>\n      <th>371375</th>\n      <td>d5257da921074588a03c0537afca3463</td>\n      <td>2</td>\n    </tr>\n    <tr>\n      <th>371376</th>\n      <td>206cf56ebcfc4276b68dd5f7b111e2d7</td>\n      <td>3</td>\n    </tr>\n  </tbody>\n</table>\n<p>371377 rows × 2 columns</p>\n</div>",
      "text/plain": "                                event_id  number_of_jet_in_this_event\n0       bc719fe03a7c402f837fdad7772254ad                            2\n1       1979380d57fa4e8b83a28df9195fcb30                            4\n2       d44fe1c3704b4fab85624d21bea876f7                            2\n3       18f606d49281448ca5ac5053d4d6347b                            2\n4       c7b0d93328724d94a150c7efbe1887ea                            2\n...                                  ...                          ...\n371372  26c7e3fbc6194323a5f90ebf72d16db8                            5\n371373  f78fba1469414ce2b52b6ff859139f22                            3\n371374  a6f1299dc8da4497a23016836fc1e49b                            2\n371375  d5257da921074588a03c0537afca3463                            2\n371376  206cf56ebcfc4276b68dd5f7b111e2d7                            3\n\n[371377 rows x 2 columns]"
     },
     "execution_count": 21,
     "metadata": {},
     "output_type": "execute_result"
    }
   ],
   "source": [
    "event"
   ]
  },
  {
   "cell_type": "code",
   "execution_count": 22,
   "metadata": {},
   "outputs": [
    {
     "name": "stdout",
     "output_type": "stream",
     "text": "144f4568f9d14bb3bd597794160003de\n"
    }
   ],
   "source": [
    "print(event.event_id[12])"
   ]
  },
  {
   "cell_type": "code",
   "execution_count": 23,
   "metadata": {},
   "outputs": [
    {
     "name": "stdout",
     "output_type": "stream",
     "text": "jet_id                             85f15b1282dd459aa2ace72267a4bfa7\nnumber_of_particles_in_this_jet                                  26\njet_px                                                      80.1205\njet_py                                                     0.675518\njet_pz                                                    0.0945133\njet_energy                                                  80.7694\njet_mass                                                    10.1952\nevent_id                           144f4568f9d14bb3bd597794160003de\nlabel                                                             5\nName: 4312, dtype: object\n"
    }
   ],
   "source": [
    "print(jet.loc[4312])"
   ]
  },
  {
   "cell_type": "code",
   "execution_count": 53,
   "metadata": {},
   "outputs": [],
   "source": [
    "for ids in event.event_id[0:100]:\n",
    "    jet_ids=jet.label[jet['event_id'].isin([ids])]\n",
    "    for i in range(0,len(jet_ids)-2):\n",
    "        if int(jet_ids[i:i+1])!=int(jet_ids[i+1:i+2]):\n",
    "            print(jet_ids)"
   ]
  },
  {
   "cell_type": "code",
   "execution_count": 25,
   "metadata": {},
   "outputs": [
    {
     "name": "stdout",
     "output_type": "stream",
     "text": "jet_id                             5f6a55a904ce45ee805c6772bbdbb858\nnumber_of_particles_in_this_jet                                  29\njet_px                                                     -382.801\njet_py                                                    0.0614262\njet_pz                                                      -13.917\njet_energy                                                  384.589\njet_mass                                                    34.3237\nevent_id                           bc719fe03a7c402f837fdad7772254ad\nlabel                                                             4\nName: 386163, dtype: object\n"
    }
   ],
   "source": [
    "print(jet.loc[386163])"
   ]
  },
  {
   "cell_type": "code",
   "execution_count": 47,
   "metadata": {},
   "outputs": [],
   "source": [
    "ids = event.event_id[0]\n",
    "jet_ids = jet.label[jet['event_id'].isin([ids])]\n",
    "len(jet_ids)\n",
    "if int(jet_ids[0:1])!=int(jet_ids[1:2]):\n",
    "    print(int(jet_ids[0:1]))"
   ]
  },
  {
   "cell_type": "code",
   "execution_count": 27,
   "metadata": {},
   "outputs": [
    {
     "data": {
      "text/plain": "11789784     211\n11790523      22\n11842640      22\n11844851      22\n11884804      22\n11906036    -321\n11937615      22\n11937933      22\n11963498     211\n11997599     211\n12004799      22\n12007321      22\n12041200   -2112\n12070590     211\n12072764      22\n12079975     211\n12085770    -211\n12089114    -211\n12094891      22\n12114258      22\n12130854      22\nName: particle_category, dtype: int64"
     },
     "execution_count": 27,
     "metadata": {},
     "output_type": "execute_result"
    }
   ],
   "source": [
    "ids = jet.jet_id[0]\n",
    "jet_ids = particle.particle_category[particle['jet_id'].isin([ids])]\n",
    "jet_ids"
   ]
  },
  {
   "cell_type": "code",
   "execution_count": 28,
   "metadata": {},
   "outputs": [],
   "source": [
    "test_event = pd.read_csv(\"C:/Users/xi chen/Desktop/JUPYTER/jet_complex_data/jet_complex_data/complex_test_R04_event.csv\")\n",
    "test_particle = pd.read_csv(\"C:/Users/xi chen/Desktop/JUPYTER/jet_complex_data/jet_complex_data/complex_test_R04_particle.csv\")\n",
    "test_jet = pd.read_csv(\"C:/Users/xi chen/Desktop/JUPYTER/jet_complex_data/jet_complex_data/complex_test_R04_jet.csv\")"
   ]
  },
  {
   "cell_type": "code",
   "execution_count": 29,
   "metadata": {},
   "outputs": [
    {
     "data": {
      "text/html": "<div>\n<style scoped>\n    .dataframe tbody tr th:only-of-type {\n        vertical-align: middle;\n    }\n\n    .dataframe tbody tr th {\n        vertical-align: top;\n    }\n\n    .dataframe thead th {\n        text-align: right;\n    }\n</style>\n<table border=\"1\" class=\"dataframe\">\n  <thead>\n    <tr style=\"text-align: right;\">\n      <th></th>\n      <th>event_id</th>\n      <th>number_of_jet_in_this_event</th>\n    </tr>\n  </thead>\n  <tbody>\n    <tr>\n      <th>0</th>\n      <td>4320c5e0cff24fd88d678bd5112649b8</td>\n      <td>2</td>\n    </tr>\n    <tr>\n      <th>1</th>\n      <td>fa1057abe1b64a87bb8676049fba16f1</td>\n      <td>3</td>\n    </tr>\n    <tr>\n      <th>2</th>\n      <td>815ad5f7e43647d78f9d9fcc4c1858a3</td>\n      <td>7</td>\n    </tr>\n    <tr>\n      <th>3</th>\n      <td>b2aabef8d2014b47aa1a8c2312932f1f</td>\n      <td>3</td>\n    </tr>\n    <tr>\n      <th>4</th>\n      <td>a4fb8e2776454326ba4a230359b2f687</td>\n      <td>4</td>\n    </tr>\n    <tr>\n      <th>...</th>\n      <td>...</td>\n      <td>...</td>\n    </tr>\n    <tr>\n      <th>176715</th>\n      <td>6713e9e9a3b2428a8531d430e328e1bf</td>\n      <td>2</td>\n    </tr>\n    <tr>\n      <th>176716</th>\n      <td>dddeb9fe011f4e679185a750924a2af1</td>\n      <td>3</td>\n    </tr>\n    <tr>\n      <th>176717</th>\n      <td>f19b0aa98b344de1a1b6f17656e36675</td>\n      <td>3</td>\n    </tr>\n    <tr>\n      <th>176718</th>\n      <td>5016870434ea4d4288e92736a8718330</td>\n      <td>6</td>\n    </tr>\n    <tr>\n      <th>176719</th>\n      <td>8c7e510f5e4c49d3b141b83b08b4a117</td>\n      <td>3</td>\n    </tr>\n  </tbody>\n</table>\n<p>176720 rows × 2 columns</p>\n</div>",
      "text/plain": "                                event_id  number_of_jet_in_this_event\n0       4320c5e0cff24fd88d678bd5112649b8                            2\n1       fa1057abe1b64a87bb8676049fba16f1                            3\n2       815ad5f7e43647d78f9d9fcc4c1858a3                            7\n3       b2aabef8d2014b47aa1a8c2312932f1f                            3\n4       a4fb8e2776454326ba4a230359b2f687                            4\n...                                  ...                          ...\n176715  6713e9e9a3b2428a8531d430e328e1bf                            2\n176716  dddeb9fe011f4e679185a750924a2af1                            3\n176717  f19b0aa98b344de1a1b6f17656e36675                            3\n176718  5016870434ea4d4288e92736a8718330                            6\n176719  8c7e510f5e4c49d3b141b83b08b4a117                            3\n\n[176720 rows x 2 columns]"
     },
     "execution_count": 29,
     "metadata": {},
     "output_type": "execute_result"
    }
   ],
   "source": [
    "test_event"
   ]
  },
  {
   "cell_type": "code",
   "execution_count": 30,
   "metadata": {},
   "outputs": [
    {
     "data": {
      "text/html": "<div>\n<style scoped>\n    .dataframe tbody tr th:only-of-type {\n        vertical-align: middle;\n    }\n\n    .dataframe tbody tr th {\n        vertical-align: top;\n    }\n\n    .dataframe thead th {\n        text-align: right;\n    }\n</style>\n<table border=\"1\" class=\"dataframe\">\n  <thead>\n    <tr style=\"text-align: right;\">\n      <th></th>\n      <th>jet_id</th>\n      <th>number_of_particles_in_this_jet</th>\n      <th>jet_px</th>\n      <th>jet_py</th>\n      <th>jet_pz</th>\n      <th>jet_energy</th>\n      <th>jet_mass</th>\n      <th>event_id</th>\n    </tr>\n  </thead>\n  <tbody>\n    <tr>\n      <th>0</th>\n      <td>cb3b5c6ea5e441e9b425fc1e6a4a00e6</td>\n      <td>23</td>\n      <td>-86.9773</td>\n      <td>0.268724</td>\n      <td>6.699850</td>\n      <td>87.5486</td>\n      <td>7.39969</td>\n      <td>63d5670e5c514f00b64c0329382af524</td>\n    </tr>\n    <tr>\n      <th>1</th>\n      <td>838bf5c3f9bc4a2194f51b3c57f403cd</td>\n      <td>26</td>\n      <td>72.0487</td>\n      <td>-7.242040</td>\n      <td>-0.515331</td>\n      <td>73.2549</td>\n      <td>11.06970</td>\n      <td>8ddc9b4f189d42d08bde2936914341ed</td>\n    </tr>\n    <tr>\n      <th>2</th>\n      <td>fbc245d8b90b4a5d804880e097244a67</td>\n      <td>6</td>\n      <td>21.4055</td>\n      <td>-0.877366</td>\n      <td>-1.224690</td>\n      <td>21.6806</td>\n      <td>3.09542</td>\n      <td>e9a3a2a70f8f45999a0526c9b7538670</td>\n    </tr>\n    <tr>\n      <th>3</th>\n      <td>f4c5dffa513a443fbbd27ca4c0fbe44f</td>\n      <td>7</td>\n      <td>-12.1341</td>\n      <td>-3.029840</td>\n      <td>-4.381850</td>\n      <td>13.3144</td>\n      <td>1.28673</td>\n      <td>e8f3cdee49b043a08be537c763e8e2f4</td>\n    </tr>\n    <tr>\n      <th>4</th>\n      <td>74b105d4cb654c4d94da3fb88c8cd6a7</td>\n      <td>17</td>\n      <td>133.2230</td>\n      <td>203.498000</td>\n      <td>-107.776000</td>\n      <td>266.3240</td>\n      <td>12.38630</td>\n      <td>757c56889e744eff99611d8313ca31f7</td>\n    </tr>\n    <tr>\n      <th>...</th>\n      <td>...</td>\n      <td>...</td>\n      <td>...</td>\n      <td>...</td>\n      <td>...</td>\n      <td>...</td>\n      <td>...</td>\n      <td>...</td>\n    </tr>\n    <tr>\n      <th>537944</th>\n      <td>e6d8625e7a804588bb5a03e97be8092e</td>\n      <td>7</td>\n      <td>13.7698</td>\n      <td>-7.376520</td>\n      <td>4.994330</td>\n      <td>16.7532</td>\n      <td>3.42142</td>\n      <td>9c3c4e8454324cf1849d959baf09245e</td>\n    </tr>\n    <tr>\n      <th>537945</th>\n      <td>56f663b1a299408d905298bc1aef9ab3</td>\n      <td>31</td>\n      <td>-274.8880</td>\n      <td>0.070463</td>\n      <td>-0.302162</td>\n      <td>275.1900</td>\n      <td>12.89010</td>\n      <td>a8999d1923144b9bb3b28ebc4d3866aa</td>\n    </tr>\n    <tr>\n      <th>537946</th>\n      <td>568150932e9f48cd86ccdb28faa29cff</td>\n      <td>11</td>\n      <td>18.4015</td>\n      <td>-14.348800</td>\n      <td>14.553300</td>\n      <td>27.8236</td>\n      <td>4.22467</td>\n      <td>35ea18224f794c2499f21d1bc27e48fd</td>\n    </tr>\n    <tr>\n      <th>537947</th>\n      <td>f3dc23154e874319a9d3775f8965975d</td>\n      <td>54</td>\n      <td>-412.3300</td>\n      <td>-1.562730</td>\n      <td>-2.615620</td>\n      <td>414.8150</td>\n      <td>45.23770</td>\n      <td>f2f68d5cba494910b623d222714acd4c</td>\n    </tr>\n    <tr>\n      <th>537948</th>\n      <td>52cc7fceae194cbca16d5dcfacfc1824</td>\n      <td>17</td>\n      <td>194.6110</td>\n      <td>-1.534530</td>\n      <td>-0.012771</td>\n      <td>195.2450</td>\n      <td>15.64360</td>\n      <td>ca6ba6ca0bbb49e9a662bb65a9e4f83e</td>\n    </tr>\n  </tbody>\n</table>\n<p>537949 rows × 8 columns</p>\n</div>",
      "text/plain": "                                  jet_id  number_of_particles_in_this_jet  \\\n0       cb3b5c6ea5e441e9b425fc1e6a4a00e6                               23   \n1       838bf5c3f9bc4a2194f51b3c57f403cd                               26   \n2       fbc245d8b90b4a5d804880e097244a67                                6   \n3       f4c5dffa513a443fbbd27ca4c0fbe44f                                7   \n4       74b105d4cb654c4d94da3fb88c8cd6a7                               17   \n...                                  ...                              ...   \n537944  e6d8625e7a804588bb5a03e97be8092e                                7   \n537945  56f663b1a299408d905298bc1aef9ab3                               31   \n537946  568150932e9f48cd86ccdb28faa29cff                               11   \n537947  f3dc23154e874319a9d3775f8965975d                               54   \n537948  52cc7fceae194cbca16d5dcfacfc1824                               17   \n\n          jet_px      jet_py      jet_pz  jet_energy  jet_mass  \\\n0       -86.9773    0.268724    6.699850     87.5486   7.39969   \n1        72.0487   -7.242040   -0.515331     73.2549  11.06970   \n2        21.4055   -0.877366   -1.224690     21.6806   3.09542   \n3       -12.1341   -3.029840   -4.381850     13.3144   1.28673   \n4       133.2230  203.498000 -107.776000    266.3240  12.38630   \n...          ...         ...         ...         ...       ...   \n537944   13.7698   -7.376520    4.994330     16.7532   3.42142   \n537945 -274.8880    0.070463   -0.302162    275.1900  12.89010   \n537946   18.4015  -14.348800   14.553300     27.8236   4.22467   \n537947 -412.3300   -1.562730   -2.615620    414.8150  45.23770   \n537948  194.6110   -1.534530   -0.012771    195.2450  15.64360   \n\n                                event_id  \n0       63d5670e5c514f00b64c0329382af524  \n1       8ddc9b4f189d42d08bde2936914341ed  \n2       e9a3a2a70f8f45999a0526c9b7538670  \n3       e8f3cdee49b043a08be537c763e8e2f4  \n4       757c56889e744eff99611d8313ca31f7  \n...                                  ...  \n537944  9c3c4e8454324cf1849d959baf09245e  \n537945  a8999d1923144b9bb3b28ebc4d3866aa  \n537946  35ea18224f794c2499f21d1bc27e48fd  \n537947  f2f68d5cba494910b623d222714acd4c  \n537948  ca6ba6ca0bbb49e9a662bb65a9e4f83e  \n\n[537949 rows x 8 columns]"
     },
     "execution_count": 30,
     "metadata": {},
     "output_type": "execute_result"
    }
   ],
   "source": [
    "test_jet"
   ]
  },
  {
   "cell_type": "code",
   "execution_count": 31,
   "metadata": {},
   "outputs": [
    {
     "data": {
      "text/html": "<div>\n<style scoped>\n    .dataframe tbody tr th:only-of-type {\n        vertical-align: middle;\n    }\n\n    .dataframe tbody tr th {\n        vertical-align: top;\n    }\n\n    .dataframe thead th {\n        text-align: right;\n    }\n</style>\n<table border=\"1\" class=\"dataframe\">\n  <thead>\n    <tr style=\"text-align: right;\">\n      <th></th>\n      <th>particle_category</th>\n      <th>particle_px</th>\n      <th>particle_py</th>\n      <th>particle_pz</th>\n      <th>particle_energy</th>\n      <th>particle_mass</th>\n      <th>jet_id</th>\n    </tr>\n  </thead>\n  <tbody>\n    <tr>\n      <th>0</th>\n      <td>211</td>\n      <td>8.779390</td>\n      <td>0.051761</td>\n      <td>0.011041</td>\n      <td>8.780660</td>\n      <td>0.13957</td>\n      <td>65ab4148c94144ffba5e5c7641334854</td>\n    </tr>\n    <tr>\n      <th>1</th>\n      <td>22</td>\n      <td>-0.120521</td>\n      <td>-0.022979</td>\n      <td>-0.014388</td>\n      <td>0.123533</td>\n      <td>0.00000</td>\n      <td>2dc681068f594f0fb3878cf494adb360</td>\n    </tr>\n    <tr>\n      <th>2</th>\n      <td>22</td>\n      <td>1.406500</td>\n      <td>0.013224</td>\n      <td>-0.058012</td>\n      <td>1.407760</td>\n      <td>0.00000</td>\n      <td>87afe11b1a324a448504b646c270f851</td>\n    </tr>\n    <tr>\n      <th>3</th>\n      <td>22</td>\n      <td>-0.571785</td>\n      <td>0.100493</td>\n      <td>-0.123241</td>\n      <td>0.593485</td>\n      <td>0.00000</td>\n      <td>01639fadba5c462fa5578f69efb9f7df</td>\n    </tr>\n    <tr>\n      <th>4</th>\n      <td>211</td>\n      <td>14.905600</td>\n      <td>-0.312725</td>\n      <td>0.388751</td>\n      <td>14.914600</td>\n      <td>0.13957</td>\n      <td>eaf9f2dd803d45998a09ee8b83d8a6f9</td>\n    </tr>\n    <tr>\n      <th>...</th>\n      <td>...</td>\n      <td>...</td>\n      <td>...</td>\n      <td>...</td>\n      <td>...</td>\n      <td>...</td>\n      <td>...</td>\n    </tr>\n    <tr>\n      <th>11493795</th>\n      <td>22</td>\n      <td>0.362379</td>\n      <td>0.054920</td>\n      <td>-0.105754</td>\n      <td>0.381469</td>\n      <td>0.00000</td>\n      <td>1b541224fda94775aa3c1c08179148c9</td>\n    </tr>\n    <tr>\n      <th>11493796</th>\n      <td>22</td>\n      <td>-0.368654</td>\n      <td>-0.001860</td>\n      <td>0.082366</td>\n      <td>0.377747</td>\n      <td>0.00000</td>\n      <td>71e843d70afd485a913ea6b495f8fd36</td>\n    </tr>\n    <tr>\n      <th>11493797</th>\n      <td>-211</td>\n      <td>0.711977</td>\n      <td>-1.692120</td>\n      <td>0.932780</td>\n      <td>2.063920</td>\n      <td>0.13957</td>\n      <td>e8156cf5be8242dcb7f2ccf376964f94</td>\n    </tr>\n    <tr>\n      <th>11493798</th>\n      <td>22</td>\n      <td>1.520650</td>\n      <td>0.344317</td>\n      <td>-0.114249</td>\n      <td>1.563320</td>\n      <td>0.00000</td>\n      <td>0d7219cae720455cb1a855ed73f50097</td>\n    </tr>\n    <tr>\n      <th>11493799</th>\n      <td>211</td>\n      <td>0.980577</td>\n      <td>-0.677305</td>\n      <td>-0.369998</td>\n      <td>1.255650</td>\n      <td>0.13957</td>\n      <td>fe6df8f443e744bc90e50cdc800b141b</td>\n    </tr>\n  </tbody>\n</table>\n<p>11493800 rows × 7 columns</p>\n</div>",
      "text/plain": "          particle_category  particle_px  particle_py  particle_pz  \\\n0                       211     8.779390     0.051761     0.011041   \n1                        22    -0.120521    -0.022979    -0.014388   \n2                        22     1.406500     0.013224    -0.058012   \n3                        22    -0.571785     0.100493    -0.123241   \n4                       211    14.905600    -0.312725     0.388751   \n...                     ...          ...          ...          ...   \n11493795                 22     0.362379     0.054920    -0.105754   \n11493796                 22    -0.368654    -0.001860     0.082366   \n11493797               -211     0.711977    -1.692120     0.932780   \n11493798                 22     1.520650     0.344317    -0.114249   \n11493799                211     0.980577    -0.677305    -0.369998   \n\n          particle_energy  particle_mass                            jet_id  \n0                8.780660        0.13957  65ab4148c94144ffba5e5c7641334854  \n1                0.123533        0.00000  2dc681068f594f0fb3878cf494adb360  \n2                1.407760        0.00000  87afe11b1a324a448504b646c270f851  \n3                0.593485        0.00000  01639fadba5c462fa5578f69efb9f7df  \n4               14.914600        0.13957  eaf9f2dd803d45998a09ee8b83d8a6f9  \n...                   ...            ...                               ...  \n11493795         0.381469        0.00000  1b541224fda94775aa3c1c08179148c9  \n11493796         0.377747        0.00000  71e843d70afd485a913ea6b495f8fd36  \n11493797         2.063920        0.13957  e8156cf5be8242dcb7f2ccf376964f94  \n11493798         1.563320        0.00000  0d7219cae720455cb1a855ed73f50097  \n11493799         1.255650        0.13957  fe6df8f443e744bc90e50cdc800b141b  \n\n[11493800 rows x 7 columns]"
     },
     "execution_count": 31,
     "metadata": {},
     "output_type": "execute_result"
    }
   ],
   "source": [
    "test_particle"
   ]
  }
 ]
}