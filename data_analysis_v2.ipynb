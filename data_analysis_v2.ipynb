{
 "metadata": {
  "language_info": {
   "codemirror_mode": {
    "name": "ipython",
    "version": 3
   },
   "file_extension": ".py",
   "mimetype": "text/x-python",
   "name": "python",
   "nbconvert_exporter": "python",
   "pygments_lexer": "ipython3",
   "version": "3.7.0-final"
  },
  "orig_nbformat": 2,
  "kernelspec": {
   "name": "python3",
   "display_name": "Python 3.7.0 64-bit (conda)",
   "metadata": {
    "interpreter": {
     "hash": "c4bf900f276007d0738a87fbb63112f82cd7d56f7d6faad07ef1cfa8bf6c6c5c"
    }
   }
  }
 },
 "nbformat": 4,
 "nbformat_minor": 2,
 "cells": [
  {
   "cell_type": "code",
   "execution_count": null,
   "metadata": {},
   "outputs": [],
   "source": [
    "import warnings\n",
    "warnings.filterwarnings('ignore')\n",
    "import pandas as pd\n",
    "import numpy as np\n",
    "import matplotlib.pyplot as plt\n",
    "import seaborn as sns\n",
    "%matplotlib inline\n",
    "# 事件\n",
    "train_event = pd.read_csv('../jet_complex_data/complex_train_R04_event.csv')\n",
    "test_event = pd.read_csv('../jet_complex_data/complex_test_R04_event.csv')\n",
    "# 喷注\n",
    "train_jet = pd.read_csv('../jet_complex_data/complex_train_R04_jet.csv')\n",
    "test_jet = pd.read_csv('../jet_complex_data/complex_test_R04_jet.csv')\n",
    "# 粒子\n",
    "train_particle = pd.read_csv('../jet_complex_data/complex_train_R04_particle.csv')\n",
    "test_particle = pd.read_csv('../jet_complex_data/complex_test_R04_particle.csv')"
   ]
  },
  {
   "cell_type": "code",
   "execution_count": null,
   "metadata": {},
   "outputs": [],
   "source": [
    "train_event.head(3)"
   ]
  },
  {
   "cell_type": "code",
   "execution_count": null,
   "metadata": {},
   "outputs": [],
   "source": [
    "train_particle.head(3)"
   ]
  },
  {
   "cell_type": "code",
   "execution_count": null,
   "metadata": {},
   "outputs": [],
   "source": [
    "print('--- Data Size')\n",
    "print('event: train %d, test %d' % (len(train_event), len(test_event)))\n",
    "print('jet: train %d, test %d' % (len(train_jet), len(test_jet)))\n",
    "print('particle: train %d, test %d' % (len(train_particle), len(test_particle)))\n",
    "print('--- Amount')\n",
    "print('event: train %d, test %d' % (train_event.event_id.nunique(), test_event.event_id.nunique()))\n",
    "print('jet: train %d, test %d' % (train_jet.jet_id.nunique(), test_jet.jet_id.nunique()))\n",
    "print('event in jet: train %d, test %d' % (train_jet.event_id.nunique(), test_jet.event_id.nunique()))\n",
    "print('jet in particle: train %d, test %d' % (train_particle.jet_id.nunique(), test_particle.jet_id.nunique()))\n",
    "print('--- NaN')\n",
    "print('event: train %d, test %d' % (train_event.isnull().sum().sum(), test_event.isnull().sum().sum()))\n",
    "print('jet: train %d, test %d' % (train_jet.isnull().sum().sum(), test_jet.isnull().sum().sum()))\n",
    "print('particle: train %d, test %d' % (train_particle.isnull().sum().sum(), test_particle.isnull().sum().sum()))"
   ]
  },
  {
   "cell_type": "code",
   "execution_count": null,
   "metadata": {},
   "outputs": [],
   "source": [
    "ax = train_jet.label.value_counts(normalize=True).plot(kind='bar', title='Distribution of jet label')"
   ]
  },
  {
   "cell_type": "code",
   "execution_count": null,
   "metadata": {},
   "outputs": [],
   "source": [
    "event_label = train_jet.groupby('event_id')['label'].agg('nunique')\n",
    "print('Max number of jet types in a event: ', event_label.max())"
   ]
  },
  {
   "cell_type": "code",
   "execution_count": null,
   "metadata": {},
   "outputs": [],
   "source": [
    "ax = train_jet.groupby('event_id')['label'].nth(0).value_counts(normalize=True).plot(kind='bar',                                                                           title='Distribution of event label')"
   ]
  },
  {
   "cell_type": "code",
   "execution_count": null,
   "metadata": {},
   "outputs": [],
   "source": [
    "plt.figure(figsize=(12, 4))\n",
    "ax = plt.subplot(1,2,1)\n",
    "ax.set_title('boxplot: jet direction')\n",
    "sns.boxplot(data=train_jet[['jet_px', 'jet_py', 'jet_pz']])\n",
    "plt.subplot(1,2,2)\n",
    "ax = sns.boxplot(y='jet_px',x='label',data=train_jet)\n",
    "ax.set_title('boxplot: jet_x of different jet type')\n",
    "plt.show()"
   ]
  },
  {
   "cell_type": "code",
   "execution_count": null,
   "metadata": {},
   "outputs": [],
   "source": [
    "plt.figure(figsize=(12, 4))\n",
    "ax = plt.subplot(1,2,1)\n",
    "ax.set_title('boxplot: jet energy & mass')\n",
    "sns.boxplot(data=train_jet[['jet_energy', 'jet_mass']])\n",
    "plt.subplot(1,2,2)\n",
    "ax = sns.boxplot(y='jet_energy',x='label',data=train_jet)\n",
    "ax.set_title('boxplot: jet_energy of different jet type')\n",
    "plt.show()"
   ]
  },
  {
   "cell_type": "code",
   "execution_count": null,
   "metadata": {},
   "outputs": [],
   "source": [
    "ax = train_particle.particle_category.value_counts(normalize=True).plot(kind='bar', title='Distribution of particle type')"
   ]
  },
  {
   "cell_type": "code",
   "execution_count": null,
   "metadata": {},
   "outputs": [],
   "source": [
    "print('粒子质量统计值')\n",
    "train_particle.groupby('particle_category')['particle_mass'].agg(['min', 'max', 'mean'])"
   ]
  },
  {
   "cell_type": "code",
   "execution_count": null,
   "metadata": {},
   "outputs": [],
   "source": [
    "import warnings\n",
    "warnings.filterwarnings('ignore')"
   ]
  },
  {
   "cell_type": "code",
   "execution_count": null,
   "metadata": {},
   "outputs": [],
   "source": [
    "import os\n",
    "import numpy as np\n",
    "import pandas as pd\n",
    "from scipy import stats\n",
    "import pickle\n",
    "import time"
   ]
  },
  {
   "cell_type": "code",
   "execution_count": null,
   "metadata": {},
   "outputs": [],
   "source": [
    "import catboost as cbt"
   ]
  },
  {
   "cell_type": "code",
   "execution_count": null,
   "metadata": {},
   "outputs": [],
   "source": [
    "from sklearn.preprocessing import LabelEncoder, LabelBinarizer\n",
    "from sklearn.metrics import roc_auc_score, accuracy_score, f1_score\n",
    "from sklearn.model_selection import StratifiedKFold"
   ]
  },
  {
   "cell_type": "code",
   "execution_count": null,
   "metadata": {},
   "outputs": [],
   "source": [
    "train_jet = pd.read_csv('../jet_complex_data/complex_train_R04_jet.csv')\n",
    "test_jet = pd.read_csv('../jet_complex_data/complex_test_R04_jet.csv')"
   ]
  },
  {
   "cell_type": "code",
   "execution_count": null,
   "metadata": {},
   "outputs": [],
   "source": [
    "train_event = pd.read_csv('../jet_complex_data/complex_train_R04_event.csv')\n",
    "test_event = pd.read_csv('../jet_complex_data/complex_test_R04_event.csv')"
   ]
  },
  {
   "cell_type": "code",
   "execution_count": null,
   "metadata": {},
   "outputs": [],
   "source": [
    "train_particle = pd.read_csv('../jet_complex_data/complex_train_R04_particle.csv')\n",
    "test_particle = pd.read_csv('../jet_complex_data/complex_test_R04_particle.csv')"
   ]
  },
  {
   "cell_type": "code",
   "execution_count": null,
   "metadata": {},
   "outputs": [],
   "source": [
    "# 构造事件标签\n",
    "def gen_event_label(event, jet):\n",
    "    assert jet.groupby('event_id')['label'].nunique().max() == 1\n",
    "    event_label = jet.groupby('event_id')['label'].first().reset_index()\n",
    "    event_label = event[['event_id']].merge(event_label, 'left', 'event_id')\n",
    "    return event_label"
   ]
  },
  {
   "cell_type": "code",
   "execution_count": null,
   "metadata": {},
   "outputs": [],
   "source": [
    "# 特征：1）对事件包含的喷注的物理属性求统计值。\n",
    "def gen_jet_feat(event, jet):\n",
    "    \n",
    "    feat = jet[['event_id', 'jet_px', 'jet_py', 'jet_pz', 'jet_energy', 'jet_mass', 'number_of_particles_in_this_jet']]\n",
    "    feat['jet_p'] = (feat['jet_px'] ** 2 + feat['jet_py'] ** 2 + feat['jet_pz'] ** 2) ** 0.5\n",
    "    feat['jet_cos(x)'] = feat['jet_px'] / feat['jet_p']\n",
    "    feat['jet_cos(y)'] = feat['jet_py'] / feat['jet_p']\n",
    "    feat['jet_cos(z)'] = feat['jet_pz'] / feat['jet_p']\n",
    "    feat['jet_angle(x)'] = np.arccos(feat['jet_cos(x)'])\n",
    "    feat['jet_angle(y)'] = np.arccos(feat['jet_cos(y)'])\n",
    "    feat['jet_angle(z)'] = np.arccos(feat['jet_cos(z)'])\n",
    "    feat['jet_energy/jet_mass'] = feat['jet_energy'] / feat['jet_mass']\n",
    "    cols = ['jet_px', 'jet_py', 'jet_pz', 'jet_energy', 'jet_mass', 'number_of_particles_in_this_jet', 'jet_energy/jet_mass',\n",
    "            'jet_p', 'jet_cos(x)', 'jet_cos(y)', 'jet_cos(z)', 'jet_angle(x)', 'jet_angle(y)', 'jet_angle(z)']\n",
    "    \n",
    "    st = ['min', 'max', 'mean', 'std', 'sum']\n",
    "    st_cols = [(c + '_' + s) for c in cols for s in st]\n",
    "    feat = feat.groupby('event_id')[cols].agg(st).reset_index()\n",
    "    feat.columns = ['event_id'] + st_cols\n",
    "    \n",
    "    feat = event[['event_id', 'number_of_jet_in_this_event']].merge(feat, 'left', 'event_id')\n",
    "    feat = feat.drop(columns=['event_id'])\n",
    "    \n",
    "    return feat"
   ]
  },
  {
   "cell_type": "code",
   "execution_count": null,
   "metadata": {},
   "outputs": [],
   "source": [
    "# 特征：2）对事件包含的粒子的物理属性求统计值。\n",
    "def gen_particle_feat(event, jet, particle):\n",
    "    \n",
    "    # 事件的粒子属性特征\n",
    "    particle = particle.copy().merge(jet[['jet_id', 'event_id']], 'left', 'jet_id')\n",
    "    particle['particle_p'] = (particle['particle_px'] ** 2 + particle['particle_py'] ** 2 + particle['particle_pz'] ** 2) ** 0.5\n",
    "    particle['particle_cos(x)'] = particle['particle_px'] / particle['particle_p']\n",
    "    particle['particle_cos(y)'] = particle['particle_py'] / particle['particle_p']\n",
    "    particle['particle_cos(z)'] = particle['particle_pz'] / particle['particle_p']\n",
    "    particle['particle_angle(x)'] = np.arccos(particle['particle_cos(x)'])\n",
    "    particle['particle_angle(y)'] = np.arccos(particle['particle_cos(y)'])\n",
    "    particle['particle_angle(z)'] = np.arccos(particle['particle_cos(z)'])\n",
    "    particle['particle_energy/particle_mass'] = particle['particle_energy'] / particle['particle_mass']\n",
    "\n",
    "    cols = ['particle_px', 'particle_py', 'particle_pz', 'particle_energy', 'particle_mass', \n",
    "            'particle_p', 'particle_cos(x)', 'particle_cos(y)', 'particle_cos(z)',\n",
    "            'particle_angle(x)', 'particle_angle(y)', 'particle_angle(z)', 'particle_energy/particle_mass']\n",
    "\n",
    "    st = ['min', 'max', 'mean', 'std', 'sum']\n",
    "    st_cols = [(c + '_e_' + s) for c in cols for s in st]\n",
    "    particle_st = particle.groupby('event_id')[cols].agg(st).reset_index()\n",
    "    particle_st.columns = ['event_id'] + st_cols\n",
    "\n",
    "    feat = event[['event_id']].merge(particle_st, 'left', 'event_id')\n",
    "    \n",
    "    # 事件的粒子类别特征\n",
    "    particle['1'] = 1\n",
    "    cat_cnt = particle.pivot_table(index='event_id', columns='particle_category', values='1', aggfunc='sum').reset_index()\n",
    "    cat_cols = ['cat_e_%d' % i  for i in range(14)]\n",
    "    cat_cnt.columns = ['event_id'] + ['cat_e_%d' % i  for i in range(14)]\n",
    "    cat_cnt['cat_e_sum'] = cat_cnt[cat_cols].sum(axis=1)\n",
    "    cat_cnt_rate = cat_cnt[cat_cols] / cat_cnt['cat_e_sum'].values.reshape((-1, 1))\n",
    "    cat_cnt_rate.columns = ['%s_e_rate' % c for c in cat_cols]\n",
    "    cat_cnt = pd.concat([cat_cnt, cat_cnt_rate], axis=1)\n",
    "\n",
    "    feat = feat.merge(cat_cnt, 'left', 'event_id')\n",
    "\n",
    "    feat = feat.drop(columns=['event_id'])\n",
    "    \n",
    "    return feat"
   ]
  },
  {
   "cell_type": "code",
   "execution_count": null,
   "metadata": {},
   "outputs": [],
   "source": [
    "# 特征：3）对喷注包含的粒子的物理属性求统计值，再对事件求统计值。\n",
    "def gen_jet_particle_feat(event, jet, particle):\n",
    "    \n",
    "    # 喷注的粒子属性特征\n",
    "    particle = particle.copy() # merge(jet[['jet_id', 'event_id']], 'left', 'jet_id')\n",
    "    particle['particle_p'] = (particle['particle_px'] ** 2 + particle['particle_py'] ** 2 + particle['particle_pz'] ** 2) ** 0.5\n",
    "    particle['particle_cos(x)'] = particle['particle_px'] / particle['particle_p']\n",
    "    particle['particle_cos(y)'] = particle['particle_py'] / particle['particle_p']\n",
    "    particle['particle_cos(z)'] = particle['particle_pz'] / particle['particle_p']\n",
    "    particle['particle_angle(x)'] = np.arccos(particle['particle_cos(x)'])\n",
    "    particle['particle_angle(y)'] = np.arccos(particle['particle_cos(y)'])\n",
    "    particle['particle_angle(z)'] = np.arccos(particle['particle_cos(z)'])\n",
    "    particle['particle_energy/particle_mass'] = particle['particle_energy'] / particle['particle_mass']\n",
    "\n",
    "    cols = ['particle_px', 'particle_py', 'particle_pz', 'particle_energy', 'particle_mass', \n",
    "            'particle_p', 'particle_cos(x)', 'particle_cos(y)', 'particle_cos(z)',\n",
    "            'particle_angle(x)', 'particle_angle(y)', 'particle_angle(z)', 'particle_energy/particle_mass']\n",
    "\n",
    "    st = ['min', 'max', 'mean', 'std', 'sum']\n",
    "    st_cols = [(c + '_j_' + s) for c in cols for s in st]\n",
    "    particle_st = particle.groupby('jet_id')[cols].agg(st).reset_index()\n",
    "    particle_st.columns = ['jet_id'] + st_cols\n",
    "    \n",
    "    # 喷注的粒子类别特征\n",
    "    particle['1'] = 1\n",
    "    cat_cnt = particle.pivot_table(index='jet_id', columns='particle_category', values='1', aggfunc='sum').reset_index()\n",
    "    cat_cols = ['cat_j_%d' % i  for i in range(14)]\n",
    "    cat_cnt.columns = ['jet_id'] + ['cat_j_%d' % i  for i in range(14)]\n",
    "    cat_cnt['cat_j_sum'] = cat_cnt[cat_cols].sum(axis=1)\n",
    "    cat_cnt_rate = cat_cnt[cat_cols] / cat_cnt['cat_j_sum'].values.reshape((-1, 1))\n",
    "    cat_cnt_rate.columns = ['%s_j_rate' % c for c in cat_cols]\n",
    "    cat_cnt = pd.concat([cat_cnt, cat_cnt_rate], axis=1)\n",
    "\n",
    "    feat = jet[['event_id', 'jet_id']].merge(particle_st, 'left', 'jet_id').merge(cat_cnt, 'left', 'jet_id')\n",
    "    \n",
    "    # 对事件求上述喷注特征的统计值\n",
    "    cols = [c for c in feat.columns if not c in ['event_id', 'jet_id']]\n",
    "    st = ['min', 'max', 'mean', 'std', 'sum']\n",
    "    st_cols = [(c + '_e_' + s) for c in cols for s in st]\n",
    "    feat = feat.groupby('event_id')[cols].agg(st).reset_index()\n",
    "    feat.columns = ['event_id'] + st_cols\n",
    "    \n",
    "    feat = event[['event_id']].merge(feat, 'left', 'event_id')\n",
    "    feat = feat.drop(columns=['event_id'])\n",
    "    \n",
    "    return feat"
   ]
  },
  {
   "cell_type": "code",
   "execution_count": null,
   "metadata": {},
   "outputs": [],
   "source": [
    "# 事件标签\n",
    "event_label = gen_event_label(train_event, train_jet)"
   ]
  },
  {
   "cell_type": "code",
   "execution_count": null,
   "metadata": {},
   "outputs": [],
   "source": [
    "# 特征 1\n",
    "train_jet_feat = gen_jet_feat(train_event, train_jet)\n",
    "test_jet_feat = gen_jet_feat(test_event, test_jet)"
   ]
  },
  {
   "cell_type": "code",
   "execution_count": null,
   "metadata": {},
   "outputs": [],
   "source": [
    "# 特征 2\n",
    "train_particle_feat = gen_particle_feat(train_event, train_jet, train_particle)\n",
    "test_particle_feat = gen_particle_feat(test_event, test_jet, test_particle)"
   ]
  },
  {
   "cell_type": "code",
   "execution_count": null,
   "metadata": {},
   "outputs": [],
   "source": [
    "# 特征 3\n",
    "train_jet_particle_feat = gen_jet_particle_feat(train_event, train_jet, train_particle)\n",
    "test_jet_particle_feat = gen_jet_particle_feat(test_event, test_jet, test_particle)"
   ]
  },
  {
   "cell_type": "code",
   "execution_count": null,
   "metadata": {},
   "outputs": [],
   "source": [
    "# 合并特征\n",
    "train_data = pd.concat([train_jet_feat, train_particle_feat, train_jet_particle_feat], axis=1)\n",
    "test_data = pd.concat([test_jet_feat, test_particle_feat, test_jet_particle_feat], axis=1)"
   ]
  },
  {
   "cell_type": "code",
   "execution_count": null,
   "metadata": {},
   "outputs": [],
   "source": [
    "used_feats = list(train_data.columns)\n",
    "x_train = train_data\n",
    "x_test = test_data\n",
    "\n",
    "print(len(used_feats))\n",
    "print(used_feats)\n",
    "print(x_train.shape)\n",
    "print(x_test.shape)"
   ]
  },
  {
   "cell_type": "code",
   "execution_count": null,
   "metadata": {},
   "outputs": [],
   "source": [
    "label = 'label'\n",
    "lbl_enc = LabelEncoder()\n",
    "event_label[label] = lbl_enc.fit_transform(event_label[label])\n",
    "print(lbl_enc.classes_)\n",
    "print(lbl_enc.transform(lbl_enc.classes_))\n",
    "y_train = event_label[label]"
   ]
  },
  {
   "cell_type": "code",
   "execution_count": null,
   "metadata": {},
   "outputs": [],
   "source": [
    "del train_jet_feat, train_particle_feat, train_jet_particle_feat\n",
    "del test_jet_feat, test_particle_feat, test_jet_particle_feat"
   ]
  },
  {
   "cell_type": "code",
   "execution_count": null,
   "metadata": {},
   "outputs": [],
   "source": [
    "lbr = LabelBinarizer().fit(y_train)\n",
    "def auc_metric(y_true, y_pred):\n",
    "    y_true = lbr.transform(y_true)\n",
    "    y_pred = y_pred.reshape((4, -1)).T\n",
    "    y_pred = lbr.transform(np.argmax(y_pred, axis=1))\n",
    "    score = roc_auc_score(y_true=y_true, y_score=y_pred, average='macro')\n",
    "    return 'auc', score, True"
   ]
  },
  {
   "cell_type": "code",
   "execution_count": null,
   "metadata": {},
   "outputs": [],
   "source": [
    "tic = time.time()\n",
    "\n",
    "test_pred = np.zeros((len(x_test), 4))\n",
    "oof_pred = np.zeros((len(x_train), 4))\n",
    "\n",
    "feat_imp = pd.DataFrame(used_feats, columns=['feat'])\n",
    "feat_imp['imp'] = 0\n",
    "scores = []\n",
    "\n",
    "kfold = StratifiedKFold(n_splits=5, random_state=12306, shuffle=True)\n",
    "for i, (trn_idx, val_idx) in enumerate(kfold.split(X=x_train, y=y_train)):\n",
    "\n",
    "    print('-' * 88)\n",
    "    print('Fold %d:' % i)\n",
    "    \n",
    "    x_trn, y_trn = x_train.iloc[trn_idx], y_train.iloc[trn_idx]\n",
    "    x_val, y_val = x_train.iloc[val_idx], y_train.iloc[val_idx]\n",
    "    \n",
    "    trn_pool = cbt.Pool(x_trn, y_trn)\n",
    "    val_pool = cbt.Pool(x_val, y_val)\n",
    "    model = cbt.CatBoostClassifier(iterations=100000, learning_rate=0.1, eval_metric='MultiClass',# depth=10,\n",
    "                               use_best_model=True, random_seed=2020, logging_level='Verbose', \n",
    "                               task_type='GPU', devices='0', early_stopping_rounds=200, loss_function='MultiClass', \n",
    "                               )\n",
    "#     model.set_params(**params)\n",
    "    model.fit(trn_pool, eval_set=val_pool, verbose=100)\n",
    "\n",
    "    pickle.dump(file=open('./models/cbt_model_%d.pkl' % i, 'wb'), obj=model)\n",
    "    feat_imp['imp'] += (model.feature_importances_ / 5)\n",
    "    scores.append(model.best_score_['validation']['MultiClass'])\n",
    "    test_pred += (model.predict_proba(x_test) / 5)\n",
    "    oof_pred[val_idx] = model.predict_proba(x_val)\n",
    "    \n",
    "    del x_trn, y_trn, x_val, y_val\n",
    "    del trn_pool, val_pool\n",
    "\n",
    "toc = time.time()\n",
    "print('times: %f' % (toc - tic))"
   ]
  },
  {
   "cell_type": "code",
   "execution_count": null,
   "metadata": {},
   "outputs": [],
   "source": [
    "print('loss： %s' % scores)\n",
    "print('mean loss: %f' % np.mean(scores))\n",
    "print('acc: %f' % accuracy_score(y_train, np.argmax(oof_pred, axis=1)))\n",
    "print('auc: %f' % roc_auc_score(y_true=lbr.transform(y_train),\n",
    "                                y_score=lbr.transform(np.argmax(oof_pred, axis=1)),\n",
    "                                average='macro'))"
   ]
  },
  {
   "cell_type": "code",
   "execution_count": null,
   "metadata": {},
   "outputs": [],
   "source": [
    "# 以喷注为主体重新计算AUC\n",
    "event_pred = train_event[['event_id']]\n",
    "event_pred['pred'] = np.argmax(oof_pred, axis=1)\n",
    "jet_pred = train_jet[['event_id']].merge(event_pred, 'left', 'event_id')['pred'].values\n",
    "jet_label = lbl_enc.transform(train_jet['label'])\n",
    "print('acc: %f' % accuracy_score(jet_label, jet_pred))\n",
    "print('auc: %f' % roc_auc_score(y_true=lbr.transform(jet_label),\n",
    "                                y_score=lbr.transform(jet_pred),\n",
    "                                average='macro'))\n",
    "# 0.766"
   ]
  },
  {
   "cell_type": "code",
   "execution_count": null,
   "metadata": {},
   "outputs": [],
   "source": [
    "import matplotlib.pyplot as plt\n",
    "%matplotlib inline\n",
    "plt.figure(figsize=(5,10))\n",
    "feat_imp= feat_imp.sort_values(by='imp', ascending=True)[-50:]\n",
    "plt.barh(feat_imp['feat'], feat_imp['imp'])"
   ]
  },
  {
   "cell_type": "code",
   "execution_count": null,
   "metadata": {},
   "outputs": [],
   "source": [
    "event_pred = test_event[['event_id']]\n",
    "event_pred['pred'] = np.argmax(test_pred, axis=1)\n",
    "jet_pred = test_jet[['event_id']].merge(event_pred, 'left', 'event_id')['pred'].values"
   ]
  },
  {
   "cell_type": "code",
   "execution_count": null,
   "metadata": {},
   "outputs": [],
   "source": [
    "submission = pd.DataFrame()\n",
    "submission['id'] = test_jet['jet_id']\n",
    "submission['label'] = lbl_enc.inverse_transform(jet_pred)\n",
    "submission.head()"
   ]
  },
  {
   "cell_type": "code",
   "execution_count": null,
   "metadata": {},
   "outputs": [],
   "source": [
    "submission.to_csv('./result.csv', index=False)"
   ]
  }
 ]
}