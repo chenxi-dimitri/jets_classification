{
 "nbformat": 4,
 "nbformat_minor": 2,
 "metadata": {
  "language_info": {
   "name": "python",
   "codemirror_mode": {
    "name": "ipython",
    "version": 3
   },
   "version": "3.7.5-final"
  },
  "orig_nbformat": 2,
  "file_extension": ".py",
  "mimetype": "text/x-python",
  "name": "python",
  "npconvert_exporter": "python",
  "pygments_lexer": "ipython3",
  "version": 3,
  "kernelspec": {
   "name": "python37564bittensorflowconda06faca518d6c4f5ba610d5de9481cf2a",
   "display_name": "Python 3.7.5 64-bit ('tensorflow': conda)"
  }
 },
 "cells": [
  {
   "cell_type": "code",
   "execution_count": 15,
   "metadata": {},
   "outputs": [],
   "source": [
    "import numpy as np\n",
    "import pandas as pd\n",
    "from pandas import DataFrame,Series"
   ]
  },
  {
   "cell_type": "code",
   "execution_count": 16,
   "metadata": {},
   "outputs": [],
   "source": [
    "ans = pd.read_csv('C:/Users/xi chen/Desktop/JUPYTER/jet_complex_data/jet_complex_data/sub.csv')"
   ]
  },
  {
   "cell_type": "code",
   "execution_count": 5,
   "metadata": {},
   "outputs": [
    {
     "data": {
      "text/html": "<div>\n<style scoped>\n    .dataframe tbody tr th:only-of-type {\n        vertical-align: middle;\n    }\n\n    .dataframe tbody tr th {\n        vertical-align: top;\n    }\n\n    .dataframe thead th {\n        text-align: right;\n    }\n</style>\n<table border=\"1\" class=\"dataframe\">\n  <thead>\n    <tr style=\"text-align: right;\">\n      <th></th>\n      <th>label</th>\n    </tr>\n  </thead>\n  <tbody>\n    <tr>\n      <th>count</th>\n      <td>537949.000000</td>\n    </tr>\n    <tr>\n      <th>mean</th>\n      <td>10.387414</td>\n    </tr>\n    <tr>\n      <th>std</th>\n      <td>9.049336</td>\n    </tr>\n    <tr>\n      <th>min</th>\n      <td>1.000000</td>\n    </tr>\n    <tr>\n      <th>25%</th>\n      <td>1.000000</td>\n    </tr>\n    <tr>\n      <th>50%</th>\n      <td>5.000000</td>\n    </tr>\n    <tr>\n      <th>75%</th>\n      <td>21.000000</td>\n    </tr>\n    <tr>\n      <th>max</th>\n      <td>21.000000</td>\n    </tr>\n  </tbody>\n</table>\n</div>",
      "text/plain": "               label\ncount  537949.000000\nmean       10.387414\nstd         9.049336\nmin         1.000000\n25%         1.000000\n50%         5.000000\n75%        21.000000\nmax        21.000000"
     },
     "execution_count": 5,
     "metadata": {},
     "output_type": "execute_result"
    }
   ],
   "source": [
    "ans.describe()"
   ]
  },
  {
   "cell_type": "code",
   "execution_count": 17,
   "metadata": {},
   "outputs": [],
   "source": [
    "event = pd.read_csv(\"C:/Users/xi chen/Desktop/JUPYTER/jet_complex_data/jet_complex_data/complex_test_R04_event.csv\")\n",
    "jet = pd.read_csv(\"C:/Users/xi chen/Desktop/JUPYTER/jet_complex_data/jet_complex_data/complex_test_R04_jet.csv\")"
   ]
  },
  {
   "cell_type": "code",
   "execution_count": 4,
   "metadata": {},
   "outputs": [
    {
     "name": "stdout",
     "output_type": "stream",
     "text": "___________\n___________\n___________\n0    5\n1    4\n2    5\ndtype: int64\n260657    4\nName: label, dtype: int64\n5    2\n4    1\ndtype: int64\n2\n3\n[2 1]\n2\n0                                        5\n1    260657    4\nName: label, dtype: int64\n2    397779    5\nName: label, dtype: int64\ndtype: object\n260657\n___________\n___________\n___________\n___________\n___________\n___________\n___________\n___________\n___________\n___________\n___________\n___________\n___________\n___________\n___________\n___________\n___________\n0    1\n1    4\n2    1\n3    4\ndtype: int64\n457306    4\nName: label, dtype: int64\n1    2\n4    2\ndtype: int64\n2\n4\n[2 2]\n2\n0                                        1\n1    457306    4\nName: label, dtype: int64\n2    470001    1\nName: label, dtype: int64\n3    517226    4\nName: label, dtype: int64\ndtype: object\n___________\n___________\n___________\n___________\n___________\n___________\n___________\n___________\n___________\n___________\n___________\n___________\n___________\n___________\n___________\n___________\n___________\n___________\n___________\n___________\n___________\n___________\n___________\n___________\n___________\n___________\n___________\n___________\n___________\n___________\n___________\n___________\n___________\n0    1\n1    4\ndtype: int64\n423978    4\nName: label, dtype: int64\n1    1\n4    1\ndtype: int64\n2\n2\n[1 1]\n1\n0                                        1\n1    423978    4\nName: label, dtype: int64\ndtype: object\n___________\n___________\n___________\n0    21\n1     5\ndtype: int64\n404891    5\nName: label, dtype: int64\n5     1\n21    1\ndtype: int64\n2\n2\n[1 1]\n1\n0                                       21\n1    404891    5\nName: label, dtype: int64\ndtype: object\n___________\n___________\n___________\n___________\n___________\n___________\n___________\n0    21\n1     5\ndtype: int64\n525966    5\nName: label, dtype: int64\n5     1\n21    1\ndtype: int64\n2\n2\n[1 1]\n1\n0                                       21\n1    525966    5\nName: label, dtype: int64\ndtype: object\n___________\n___________\n___________\n___________\n___________\n___________\n___________\n___________\n___________\n___________\n___________\n___________\n___________\n___________\n___________\n___________\n___________\n___________\n___________\n___________\n___________\n___________\n___________\n___________\n___________\n___________\n___________\n___________\n___________\n___________\n___________\n___________\n___________\n___________\n___________\n___________\n___________\n___________\n___________\n___________\n___________\n___________\n___________\n___________\n___________\n___________\n___________\n___________\n___________\n___________\n___________\n___________\n___________\n___________\n___________\n0    4\n1    5\n2    5\ndtype: int64\n100267    5\nName: label, dtype: int64\n5    2\n4    1\ndtype: int64\n2\n3\n[2 1]\n2\n0                                        4\n1    100267    5\nName: label, dtype: int64\n2    394323    5\nName: label, dtype: int64\ndtype: object\n"
    },
    {
     "ename": "AttributeError",
     "evalue": "'int' object has no attribute 'index'",
     "output_type": "error",
     "traceback": [
      "\u001b[1;31m---------------------------------------------------------------------------\u001b[0m",
      "\u001b[1;31mAttributeError\u001b[0m                            Traceback (most recent call last)",
      "\u001b[1;32m<ipython-input-4-3a4075cee6b2>\u001b[0m in \u001b[0;36m<module>\u001b[1;34m\u001b[0m\n\u001b[0;32m     30\u001b[0m                 \u001b[0mindex\u001b[0m \u001b[1;33m=\u001b[0m \u001b[0mcount_1\u001b[0m\u001b[1;33m.\u001b[0m\u001b[0misin\u001b[0m\u001b[1;33m(\u001b[0m\u001b[1;33m[\u001b[0m\u001b[0mthis_label\u001b[0m\u001b[1;33m[\u001b[0m\u001b[1;36m0\u001b[0m\u001b[1;33m]\u001b[0m\u001b[1;33m]\u001b[0m\u001b[1;33m)\u001b[0m\u001b[1;33m\u001b[0m\u001b[1;33m\u001b[0m\u001b[0m\n\u001b[0;32m     31\u001b[0m                 \u001b[0mindex\u001b[0m \u001b[1;33m=\u001b[0m \u001b[0mindex\u001b[0m\u001b[1;33m[\u001b[0m\u001b[0mindex\u001b[0m\u001b[1;33m]\u001b[0m\u001b[1;33m.\u001b[0m\u001b[0mindex\u001b[0m\u001b[1;33m\u001b[0m\u001b[1;33m\u001b[0m\u001b[0m\n\u001b[1;32m---> 32\u001b[1;33m                 \u001b[0mshow_label\u001b[0m\u001b[1;33m[\u001b[0m\u001b[0mindex\u001b[0m\u001b[1;33m[\u001b[0m\u001b[1;36m0\u001b[0m\u001b[1;33m]\u001b[0m\u001b[1;33m]\u001b[0m\u001b[1;33m.\u001b[0m\u001b[0mindex\u001b[0m\u001b[1;33m[\u001b[0m\u001b[1;36m0\u001b[0m\u001b[1;33m]\u001b[0m\u001b[1;31m#这是要修改的位置的编号\u001b[0m\u001b[1;33m\u001b[0m\u001b[1;33m\u001b[0m\u001b[0m\n\u001b[0m\u001b[0;32m     33\u001b[0m                 \u001b[0mprint\u001b[0m\u001b[1;33m(\u001b[0m\u001b[0mshow_label\u001b[0m\u001b[1;33m[\u001b[0m\u001b[0mindex\u001b[0m\u001b[1;33m[\u001b[0m\u001b[1;36m0\u001b[0m\u001b[1;33m]\u001b[0m\u001b[1;33m]\u001b[0m\u001b[1;33m.\u001b[0m\u001b[0mindex\u001b[0m\u001b[1;33m[\u001b[0m\u001b[1;36m0\u001b[0m\u001b[1;33m]\u001b[0m\u001b[1;33m)\u001b[0m\u001b[1;33m\u001b[0m\u001b[1;33m\u001b[0m\u001b[0m\n\u001b[0;32m     34\u001b[0m     \u001b[0mprint\u001b[0m\u001b[1;33m(\u001b[0m\u001b[1;34m'___________'\u001b[0m\u001b[1;33m)\u001b[0m\u001b[1;33m\u001b[0m\u001b[1;33m\u001b[0m\u001b[0m\n",
      "\u001b[1;31mAttributeError\u001b[0m: 'int' object has no attribute 'index'"
     ]
    }
   ],
   "source": [
    "for i in range(len(event)):#遍历每一个事件\n",
    "    ids= event.event_id[i]#获取当前事件的id\n",
    "    jet_ids = jet.jet_id[jet['event_id'].isin([ids])]#找出当前事件对应的所有喷注\n",
    "    num = event.number_of_jet_in_this_event.values[i]#获取当前事件的喷注数目\n",
    "    show_label = pd.Series(num)#新建一个空的Series\n",
    "    for j in range(num):#遍历每一个喷注\n",
    "        show_label[j] = ans.label[ans['id'].isin([(jet_ids.values[j])])]#获取当前喷注的类别并储存在show_label下\n",
    "    n=1\n",
    "    for k in range(num-1):\n",
    "        if (int(show_label[k])!=int(show_label[k+1])):#判断当前事件下每个喷注的类别是否相同\n",
    "            n=0\n",
    "    if n==0 :#如果喷注的类别有所不同，执行以下操作\n",
    "        count_1 = pd.Series(num)\n",
    "        for j in range(num):#遍历每一个喷注\n",
    "            count_1[j]=int(show_label[j])#提取每个喷注的类别储存在count中\n",
    "        print(count_1)\n",
    "        print(ans.label[show_label[1].index])\n",
    "        count = count_1.value_counts()#统计count中每种类别的频次\n",
    "        print(count)\n",
    "        print(len(count))\n",
    "        print(num)\n",
    "        print(count.values)\n",
    "        print(max(count.values))\n",
    "        print(show_label)\n",
    "        for j in range(len(count)):#遍历每种类别\n",
    "            if count.values[j]!=max(count.values):\n",
    "                this_label = count.isin([count.values[j]])#找出非多数类别的类别\n",
    "                max_label = count.isin([max(count.values)])#找出最多数的类别\n",
    "                this_label = this_label[this_label].index\n",
    "                index = count_1.isin([this_label[0]])\n",
    "                index = index[index].index\n",
    "                show_label[index[0]].index[0]#这是要修改的位置的编号\n",
    "                print(show_label[index[0]].index[0])\n",
    "    print('___________')"
   ]
  },
  {
   "cell_type": "code",
   "execution_count": 19,
   "metadata": {},
   "outputs": [
    {
     "name": "stdout",
     "output_type": "stream",
     "text": "4\n___\n5\nC:\\Users\\xi chen\\.conda\\envs\\tensorflow\\lib\\site-packages\\ipykernel_launcher.py:32: SettingWithCopyWarning: \nA value is trying to be set on a copy of a slice from a DataFrame\n\nSee the caveats in the documentation: http://pandas.pydata.org/pandas-docs/stable/user_guide/indexing.html#returning-a-view-versus-a-copy\n4\n___\n5\n4\n___\n21\n5\n___\n21\n5\n___\n4\n4\n___\n1\n5\n___\n21\n5\n___\n21\n4\n___\n1\n4\n___\n1\n1\n___\n4\n21\n___\n1\n4\n___\n5\n5\n___\n4\n"
    },
    {
     "ename": "KeyboardInterrupt",
     "evalue": "",
     "output_type": "error",
     "traceback": [
      "\u001b[1;31m---------------------------------------------------------------------------\u001b[0m",
      "\u001b[1;31mKeyboardInterrupt\u001b[0m                         Traceback (most recent call last)",
      "\u001b[1;32m<ipython-input-19-4ae2ee2eecbb>\u001b[0m in \u001b[0;36m<module>\u001b[1;34m\u001b[0m\n\u001b[0;32m      6\u001b[0m     \u001b[0mshow_label\u001b[0m\u001b[1;33m[\u001b[0m\u001b[1;36m0\u001b[0m\u001b[1;33m]\u001b[0m \u001b[1;33m=\u001b[0m \u001b[1;36m0\u001b[0m\u001b[1;33m\u001b[0m\u001b[1;33m\u001b[0m\u001b[0m\n\u001b[0;32m      7\u001b[0m     \u001b[1;32mfor\u001b[0m \u001b[0mj\u001b[0m \u001b[1;32min\u001b[0m \u001b[0mrange\u001b[0m\u001b[1;33m(\u001b[0m\u001b[0mnum\u001b[0m\u001b[1;33m)\u001b[0m\u001b[1;33m:\u001b[0m\u001b[1;31m#遍历每一个喷注\u001b[0m\u001b[1;33m\u001b[0m\u001b[1;33m\u001b[0m\u001b[0m\n\u001b[1;32m----> 8\u001b[1;33m         \u001b[0mshow_label\u001b[0m\u001b[1;33m[\u001b[0m\u001b[0mj\u001b[0m\u001b[1;33m+\u001b[0m\u001b[1;36m1\u001b[0m\u001b[1;33m]\u001b[0m \u001b[1;33m=\u001b[0m \u001b[0mans\u001b[0m\u001b[1;33m.\u001b[0m\u001b[0mlabel\u001b[0m\u001b[1;33m[\u001b[0m\u001b[0mans\u001b[0m\u001b[1;33m[\u001b[0m\u001b[1;34m'id'\u001b[0m\u001b[1;33m]\u001b[0m\u001b[1;33m.\u001b[0m\u001b[0misin\u001b[0m\u001b[1;33m(\u001b[0m\u001b[1;33m[\u001b[0m\u001b[1;33m(\u001b[0m\u001b[0mjet_ids\u001b[0m\u001b[1;33m.\u001b[0m\u001b[0mvalues\u001b[0m\u001b[1;33m[\u001b[0m\u001b[0mj\u001b[0m\u001b[1;33m]\u001b[0m\u001b[1;33m)\u001b[0m\u001b[1;33m]\u001b[0m\u001b[1;33m)\u001b[0m\u001b[1;33m]\u001b[0m\u001b[1;31m#获取当前喷注的类别并储存在show_label下\u001b[0m\u001b[1;33m\u001b[0m\u001b[1;33m\u001b[0m\u001b[0m\n\u001b[0m\u001b[0;32m      9\u001b[0m     \u001b[0mn\u001b[0m\u001b[1;33m=\u001b[0m\u001b[1;36m1\u001b[0m\u001b[1;33m\u001b[0m\u001b[1;33m\u001b[0m\u001b[0m\n\u001b[0;32m     10\u001b[0m     \u001b[1;32mfor\u001b[0m \u001b[0mk\u001b[0m \u001b[1;32min\u001b[0m \u001b[0mrange\u001b[0m\u001b[1;33m(\u001b[0m\u001b[0mnum\u001b[0m\u001b[1;33m-\u001b[0m\u001b[1;36m1\u001b[0m\u001b[1;33m)\u001b[0m\u001b[1;33m:\u001b[0m\u001b[1;33m\u001b[0m\u001b[1;33m\u001b[0m\u001b[0m\n",
      "\u001b[1;32m~\\.conda\\envs\\tensorflow\\lib\\site-packages\\pandas\\core\\series.py\u001b[0m in \u001b[0;36misin\u001b[1;34m(self, values)\u001b[0m\n\u001b[0;32m   4512\u001b[0m         \u001b[0mName\u001b[0m\u001b[1;33m:\u001b[0m \u001b[0manimal\u001b[0m\u001b[1;33m,\u001b[0m \u001b[0mdtype\u001b[0m\u001b[1;33m:\u001b[0m \u001b[0mbool\u001b[0m\u001b[1;33m\u001b[0m\u001b[1;33m\u001b[0m\u001b[0m\n\u001b[0;32m   4513\u001b[0m         \"\"\"\n\u001b[1;32m-> 4514\u001b[1;33m         \u001b[0mresult\u001b[0m \u001b[1;33m=\u001b[0m \u001b[0malgorithms\u001b[0m\u001b[1;33m.\u001b[0m\u001b[0misin\u001b[0m\u001b[1;33m(\u001b[0m\u001b[0mself\u001b[0m\u001b[1;33m,\u001b[0m \u001b[0mvalues\u001b[0m\u001b[1;33m)\u001b[0m\u001b[1;33m\u001b[0m\u001b[1;33m\u001b[0m\u001b[0m\n\u001b[0m\u001b[0;32m   4515\u001b[0m         \u001b[1;32mreturn\u001b[0m \u001b[0mself\u001b[0m\u001b[1;33m.\u001b[0m\u001b[0m_constructor\u001b[0m\u001b[1;33m(\u001b[0m\u001b[0mresult\u001b[0m\u001b[1;33m,\u001b[0m \u001b[0mindex\u001b[0m\u001b[1;33m=\u001b[0m\u001b[0mself\u001b[0m\u001b[1;33m.\u001b[0m\u001b[0mindex\u001b[0m\u001b[1;33m)\u001b[0m\u001b[1;33m.\u001b[0m\u001b[0m__finalize__\u001b[0m\u001b[1;33m(\u001b[0m\u001b[0mself\u001b[0m\u001b[1;33m)\u001b[0m\u001b[1;33m\u001b[0m\u001b[1;33m\u001b[0m\u001b[0m\n\u001b[0;32m   4516\u001b[0m \u001b[1;33m\u001b[0m\u001b[0m\n",
      "\u001b[1;32m~\\.conda\\envs\\tensorflow\\lib\\site-packages\\pandas\\core\\algorithms.py\u001b[0m in \u001b[0;36misin\u001b[1;34m(comps, values)\u001b[0m\n\u001b[0;32m    478\u001b[0m             \u001b[0mcomps\u001b[0m \u001b[1;33m=\u001b[0m \u001b[0mcomps\u001b[0m\u001b[1;33m.\u001b[0m\u001b[0mastype\u001b[0m\u001b[1;33m(\u001b[0m\u001b[0mobject\u001b[0m\u001b[1;33m)\u001b[0m\u001b[1;33m\u001b[0m\u001b[1;33m\u001b[0m\u001b[0m\n\u001b[0;32m    479\u001b[0m \u001b[1;33m\u001b[0m\u001b[0m\n\u001b[1;32m--> 480\u001b[1;33m     \u001b[1;32mreturn\u001b[0m \u001b[0mf\u001b[0m\u001b[1;33m(\u001b[0m\u001b[0mcomps\u001b[0m\u001b[1;33m,\u001b[0m \u001b[0mvalues\u001b[0m\u001b[1;33m)\u001b[0m\u001b[1;33m\u001b[0m\u001b[1;33m\u001b[0m\u001b[0m\n\u001b[0m\u001b[0;32m    481\u001b[0m \u001b[1;33m\u001b[0m\u001b[0m\n\u001b[0;32m    482\u001b[0m \u001b[1;33m\u001b[0m\u001b[0m\n",
      "\u001b[1;31mKeyboardInterrupt\u001b[0m: "
     ]
    }
   ],
   "source": [
    "for i in range(len(event)):#遍历每一个事件\n",
    "    ids= event.event_id[i]#获取当前事件的id\n",
    "    jet_ids = jet.jet_id[jet['event_id'].isin([ids])]#找出当前事件对应的所有喷注\n",
    "    num = event.number_of_jet_in_this_event.values[i]#获取当前事件的喷注数目\n",
    "    show_label = pd.Series(num+1)#新建一个空的Series\n",
    "    show_label[0] = 0\n",
    "    for j in range(num):#遍历每一个喷注\n",
    "        show_label[j+1] = ans.label[ans['id'].isin([(jet_ids.values[j])])]#获取当前喷注的类别并储存在show_label下\n",
    "    n=1\n",
    "    for k in range(num-1):\n",
    "        if (int(show_label[k+1])!=int(show_label[k+2])):#判断当前事件下每个喷注的类别是否相同\n",
    "            n=0\n",
    "    if n==0 :#如果喷注的类别有所不同，执行以下操作\n",
    "        count_1 = pd.Series(num)\n",
    "        for j in range(num):#遍历每一个喷注\n",
    "            count_1[j]=int(show_label[j+1])#提取每个喷注的类别储存在count中\n",
    "        count = count_1.value_counts()#统计count中每种类别的频次\n",
    "        for j in range(len(count)):#遍历每种类别\n",
    "            if count.values[j]!=max(count.values):\n",
    "                this_label = count.isin([count.values[j]])#找出非多数类别的类别\n",
    "                max_label = count.isin([max(count.values)])#找出最多数的类别\n",
    "                this_label = this_label[this_label].index\n",
    "                max_label = max_label[max_label].index\n",
    "                this_index = count_1.isin([this_label[0]])\n",
    "                this_index = this_index[this_index].index\n",
    "                this_index = show_label[this_index[0]+1].index[0]#这是要修改的位置的编号\n",
    "                max_index = count_1.isin([max_label[0]])\n",
    "                max_index = max_index[max_index].index\n",
    "                max_index = show_label[max_index[0]+1].index[0]\n",
    "                print(ans.label[this_index])\n",
    "                print('___')\n",
    "                ans.label[this_index]=ans.label[max_index]\n",
    "                print(ans.label[this_index])\n",
    "ans.to_csv('C:/Users/xi chen/Desktop/JUPYTER/jet_complex_data/jet_complex_data/sub3.csv',index=0)"
   ]
  },
  {
   "cell_type": "code",
   "execution_count": 12,
   "metadata": {},
   "outputs": [],
   "source": [
    "data = pd.read_csv('C:/Users/xi chen/Desktop/JUPYTER/jet_complex_data/jet_complex_data/sub.csv')"
   ]
  },
  {
   "cell_type": "code",
   "execution_count": 14,
   "metadata": {},
   "outputs": [
    {
     "data": {
      "text/plain": " 0     537946\n-3          1\n 17         1\n 16         1\nName: label_3, dtype: int64"
     },
     "execution_count": 14,
     "metadata": {},
     "output_type": "execute_result"
    }
   ],
   "source": [
    "data.label_3.value_counts()"
   ]
  }
 ]
}